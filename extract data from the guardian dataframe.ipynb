{
 "cells": [
  {
   "cell_type": "markdown",
   "id": "0fd585b9",
   "metadata": {},
   "source": [
    "# Import libraries"
   ]
  },
  {
   "cell_type": "code",
   "execution_count": null,
   "id": "cbb557bd",
   "metadata": {},
   "outputs": [],
   "source": [
    "import pandas as pd"
   ]
  },
  {
   "cell_type": "markdown",
   "id": "30ea9191",
   "metadata": {},
   "source": [
    "# Read csv"
   ]
  },
  {
   "cell_type": "code",
   "execution_count": null,
   "id": "917f0b10",
   "metadata": {},
   "outputs": [],
   "source": [
    "df = pd.read_csv('the_guardian_brexit_20190101_20191231.csv')"
   ]
  },
  {
   "cell_type": "code",
   "execution_count": null,
   "id": "1082e730",
   "metadata": {},
   "outputs": [],
   "source": [
    "# check the size (rows, columns)\n",
    "df.shape"
   ]
  },
  {
   "cell_type": "markdown",
   "id": "6f7f60c9",
   "metadata": {},
   "source": [
    "# Subset 'Section'"
   ]
  },
  {
   "cell_type": "code",
   "execution_count": null,
   "id": "4874d9ca",
   "metadata": {},
   "outputs": [],
   "source": [
    "new_df = df.copy()\n",
    "new_df = new_df[new_df['Section'] == 'Politics' ]\n",
    "new_df"
   ]
  },
  {
   "cell_type": "markdown",
   "id": "52ee0611",
   "metadata": {},
   "source": [
    "# Extract images links"
   ]
  },
  {
   "cell_type": "code",
   "execution_count": null,
   "id": "cd635bd6",
   "metadata": {},
   "outputs": [],
   "source": [
    "df['image_link'] = df['HTML'].str.extract(r'\\bimg\\ssrc=\"(.*?)\"')"
   ]
  },
  {
   "cell_type": "code",
   "execution_count": null,
   "id": "7d06e1ff",
   "metadata": {},
   "outputs": [],
   "source": [
    "df"
   ]
  },
  {
   "cell_type": "markdown",
   "id": "1deba095",
   "metadata": {},
   "source": [
    "# Extract text and save as txt"
   ]
  },
  {
   "cell_type": "markdown",
   "id": "435ea00f",
   "metadata": {},
   "source": [
    "Headline, content and publication date is extracted.\n",
    "\n",
    "Headline and content is saved to a file. The date is used as file name."
   ]
  },
  {
   "cell_type": "code",
   "execution_count": null,
   "id": "fd0e905b",
   "metadata": {},
   "outputs": [],
   "source": [
    "os.mkdir('brexit_articles')"
   ]
  },
  {
   "cell_type": "code",
   "execution_count": null,
   "id": "c0cc1e98",
   "metadata": {},
   "outputs": [],
   "source": [
    "os.chdir('.\\\\brexit_articles')"
   ]
  },
  {
   "cell_type": "code",
   "execution_count": null,
   "id": "9604100e",
   "metadata": {},
   "outputs": [],
   "source": [
    "df = df.iloc[2:, :]"
   ]
  },
  {
   "cell_type": "markdown",
   "id": "7e5aecba",
   "metadata": {},
   "source": [
    "# Subset Publication Date (October 2019)"
   ]
  },
  {
   "cell_type": "code",
   "execution_count": null,
   "id": "9362795c",
   "metadata": {
    "scrolled": true
   },
   "outputs": [],
   "source": [
    "new_df = df[df['Publication Date'].str.contains('2019-10')]\n",
    "new_df"
   ]
  },
  {
   "cell_type": "code",
   "execution_count": null,
   "id": "658fd7ef",
   "metadata": {},
   "outputs": [],
   "source": [
    "for index, row in new_df.iterrows():\n",
    "    headline = row['Headline']\n",
    "    content = row['Content']\n",
    "    time = row['Publication Date']\n",
    "    file_name1 = time.replace('-', '_').replace(' ', 'H')[:-6]\n",
    "    file_name2 = file_name1+'.txt'\n",
    "    print ('saving article at row', index, 'as', file_name2)\n",
    "    file = open(str(file_name2), 'w', encoding='utf-8')\n",
    "    article = str(headline) + '.' + ' ' + str(content)\n",
    "    file.write(article)\n",
    "    file.close()\n",
    "print('Done')"
   ]
  },
  {
   "cell_type": "code",
   "execution_count": null,
   "id": "154c06c8",
   "metadata": {},
   "outputs": [],
   "source": [
    "df"
   ]
  },
  {
   "cell_type": "markdown",
   "id": "d6238316",
   "metadata": {},
   "source": [
    "# Attemt to download fotos"
   ]
  },
  {
   "cell_type": "code",
   "execution_count": null,
   "id": "d49532eb",
   "metadata": {},
   "outputs": [],
   "source": [
    "os.chdir('..')\n",
    "os.mkdir('brexit_article_images')\n",
    "os.chdir('brexit_article_images')"
   ]
  },
  {
   "cell_type": "markdown",
   "id": "89a515b4",
   "metadata": {},
   "source": [
    "Import libraries"
   ]
  },
  {
   "cell_type": "code",
   "execution_count": null,
   "id": "ddc2aca3",
   "metadata": {},
   "outputs": [],
   "source": [
    "import requests\n",
    "from PIL import Image\n",
    "import time"
   ]
  },
  {
   "cell_type": "markdown",
   "id": "2e05ead6",
   "metadata": {},
   "source": [
    "Prepare the data"
   ]
  },
  {
   "cell_type": "code",
   "execution_count": null,
   "id": "9840a02a",
   "metadata": {},
   "outputs": [],
   "source": [
    "new_df = df.copy()\n",
    "new_df = new_df.dropna()\n",
    "new_df = new_df.reset_index(drop=True)"
   ]
  },
  {
   "cell_type": "markdown",
   "id": "bfda12c5",
   "metadata": {},
   "source": [
    "Iterate the dataframe and save the images"
   ]
  },
  {
   "cell_type": "code",
   "execution_count": null,
   "id": "71ebb3c1",
   "metadata": {},
   "outputs": [],
   "source": [
    "for index, row in new_df.iterrows():\n",
    "    try:\n",
    "        date = row['Publication Date']\n",
    "        file_name1 = date.replace('-', '_').replace(' ', 'H')[:-6]\n",
    "        file_name2 = file_name1+'.jpg'\n",
    "        image_url = row['image_link']\n",
    "        print (image_url)\n",
    "        img = Image.open(requests.get(image_url, stream = True).raw)\n",
    "        img.save(str(file_name2))\n",
    "        print ('saving image at row', index, 'as', file_name2)\n",
    "    except:\n",
    "        pass\n",
    "    time.sleep( 4 )\n",
    "print('Done')"
   ]
  }
 ],
 "metadata": {
  "kernelspec": {
   "display_name": "Python 3 (ipykernel)",
   "language": "python",
   "name": "python3"
  },
  "language_info": {
   "codemirror_mode": {
    "name": "ipython",
    "version": 3
   },
   "file_extension": ".py",
   "mimetype": "text/x-python",
   "name": "python",
   "nbconvert_exporter": "python",
   "pygments_lexer": "ipython3",
   "version": "3.9.12"
  }
 },
 "nbformat": 4,
 "nbformat_minor": 5
}
